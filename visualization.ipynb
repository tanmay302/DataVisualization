{
 "cells": [
  {
   "cell_type": "code",
   "execution_count": 154,
   "id": "bfe2e232-ce38-4cbd-883e-55c3db609ee2",
   "metadata": {},
   "outputs": [
    {
     "data": {
      "text/html": [
       "<div>\n",
       "<style scoped>\n",
       "    .dataframe tbody tr th:only-of-type {\n",
       "        vertical-align: middle;\n",
       "    }\n",
       "\n",
       "    .dataframe tbody tr th {\n",
       "        vertical-align: top;\n",
       "    }\n",
       "\n",
       "    .dataframe thead th {\n",
       "        text-align: right;\n",
       "    }\n",
       "</style>\n",
       "<table border=\"1\" class=\"dataframe\">\n",
       "  <thead>\n",
       "    <tr style=\"text-align: right;\">\n",
       "      <th></th>\n",
       "      <th>rank</th>\n",
       "      <th>discipline</th>\n",
       "      <th>phd</th>\n",
       "      <th>service</th>\n",
       "      <th>sex</th>\n",
       "      <th>salary</th>\n",
       "    </tr>\n",
       "  </thead>\n",
       "  <tbody>\n",
       "    <tr>\n",
       "      <th>0</th>\n",
       "      <td>Prof</td>\n",
       "      <td>B</td>\n",
       "      <td>56</td>\n",
       "      <td>49</td>\n",
       "      <td>Male</td>\n",
       "      <td>186960</td>\n",
       "    </tr>\n",
       "    <tr>\n",
       "      <th>1</th>\n",
       "      <td>Prof</td>\n",
       "      <td>A</td>\n",
       "      <td>12</td>\n",
       "      <td>6</td>\n",
       "      <td>Male</td>\n",
       "      <td>93000</td>\n",
       "    </tr>\n",
       "    <tr>\n",
       "      <th>2</th>\n",
       "      <td>Prof</td>\n",
       "      <td>A</td>\n",
       "      <td>23</td>\n",
       "      <td>20</td>\n",
       "      <td>Male</td>\n",
       "      <td>110515</td>\n",
       "    </tr>\n",
       "    <tr>\n",
       "      <th>3</th>\n",
       "      <td>Prof</td>\n",
       "      <td>A</td>\n",
       "      <td>40</td>\n",
       "      <td>31</td>\n",
       "      <td>Male</td>\n",
       "      <td>131205</td>\n",
       "    </tr>\n",
       "    <tr>\n",
       "      <th>4</th>\n",
       "      <td>Prof</td>\n",
       "      <td>B</td>\n",
       "      <td>20</td>\n",
       "      <td>18</td>\n",
       "      <td>Male</td>\n",
       "      <td>104800</td>\n",
       "    </tr>\n",
       "    <tr>\n",
       "      <th>...</th>\n",
       "      <td>...</td>\n",
       "      <td>...</td>\n",
       "      <td>...</td>\n",
       "      <td>...</td>\n",
       "      <td>...</td>\n",
       "      <td>...</td>\n",
       "    </tr>\n",
       "    <tr>\n",
       "      <th>73</th>\n",
       "      <td>Prof</td>\n",
       "      <td>B</td>\n",
       "      <td>18</td>\n",
       "      <td>10</td>\n",
       "      <td>Female</td>\n",
       "      <td>105450</td>\n",
       "    </tr>\n",
       "    <tr>\n",
       "      <th>74</th>\n",
       "      <td>AssocProf</td>\n",
       "      <td>B</td>\n",
       "      <td>19</td>\n",
       "      <td>6</td>\n",
       "      <td>Female</td>\n",
       "      <td>104542</td>\n",
       "    </tr>\n",
       "    <tr>\n",
       "      <th>75</th>\n",
       "      <td>Prof</td>\n",
       "      <td>B</td>\n",
       "      <td>17</td>\n",
       "      <td>17</td>\n",
       "      <td>Female</td>\n",
       "      <td>124312</td>\n",
       "    </tr>\n",
       "    <tr>\n",
       "      <th>76</th>\n",
       "      <td>Prof</td>\n",
       "      <td>A</td>\n",
       "      <td>28</td>\n",
       "      <td>14</td>\n",
       "      <td>Female</td>\n",
       "      <td>109954</td>\n",
       "    </tr>\n",
       "    <tr>\n",
       "      <th>77</th>\n",
       "      <td>Prof</td>\n",
       "      <td>A</td>\n",
       "      <td>23</td>\n",
       "      <td>15</td>\n",
       "      <td>Female</td>\n",
       "      <td>109646</td>\n",
       "    </tr>\n",
       "  </tbody>\n",
       "</table>\n",
       "<p>78 rows × 6 columns</p>\n",
       "</div>"
      ],
      "text/plain": [
       "         rank discipline  phd  service     sex  salary\n",
       "0        Prof          B   56       49    Male  186960\n",
       "1        Prof          A   12        6    Male   93000\n",
       "2        Prof          A   23       20    Male  110515\n",
       "3        Prof          A   40       31    Male  131205\n",
       "4        Prof          B   20       18    Male  104800\n",
       "..        ...        ...  ...      ...     ...     ...\n",
       "73       Prof          B   18       10  Female  105450\n",
       "74  AssocProf          B   19        6  Female  104542\n",
       "75       Prof          B   17       17  Female  124312\n",
       "76       Prof          A   28       14  Female  109954\n",
       "77       Prof          A   23       15  Female  109646\n",
       "\n",
       "[78 rows x 6 columns]"
      ]
     },
     "execution_count": 154,
     "metadata": {},
     "output_type": "execute_result"
    }
   ],
   "source": [
    "import matplotlib.pyplot as plt\n",
    "import numpy as np\n",
    "import pandas as pd\n",
    "import warnings\n",
    "warnings.filterwarnings('ignore')\n",
    "\n",
    "df=pd.read_csv('C:/Python-Excelr/Datasets/Salaries.csv')\n",
    "df\n"
   ]
  },
  {
   "cell_type": "code",
   "execution_count": 155,
   "id": "11987e10-f6cc-4af3-9de5-d20a660501b4",
   "metadata": {},
   "outputs": [
    {
     "data": {
      "text/plain": [
       "Index(['rank', 'discipline', 'phd', 'service', 'sex', 'salary'], dtype='object')"
      ]
     },
     "execution_count": 155,
     "metadata": {},
     "output_type": "execute_result"
    }
   ],
   "source": [
    "df.columns"
   ]
  },
  {
   "cell_type": "code",
   "execution_count": 156,
   "id": "7d785fea-7843-42cc-9638-76983cd50f84",
   "metadata": {},
   "outputs": [
    {
     "data": {
      "text/plain": [
       "78"
      ]
     },
     "execution_count": 156,
     "metadata": {},
     "output_type": "execute_result"
    }
   ],
   "source": [
    "df.shape[0]"
   ]
  },
  {
   "cell_type": "code",
   "execution_count": 157,
   "id": "0a5fa852-f5e8-411f-b18b-40537cf01b5c",
   "metadata": {},
   "outputs": [
    {
     "data": {
      "text/plain": [
       "<Axes: xlabel='discipline'>"
      ]
     },
     "execution_count": 157,
     "metadata": {},
     "output_type": "execute_result"
    },
    {
     "data": {
      "image/png": "[encoded data removed]",
      "text/plain": [
       "<Figure size 640x480 with 1 Axes>"
      ]
     },
     "metadata": {},
     "output_type": "display_data"
    }
   ],
   "source": [
    "df.discipline.value_counts().plot.bar()"
   ]
  },
  {
   "cell_type": "code",
   "execution_count": 158,
   "id": "83915156-6bb1-45b1-b3ae-2b84867e34e2",
   "metadata": {},
   "outputs": [
    {
     "data": {
      "text/plain": [
       "<matplotlib.collections.PathCollection at 0x22e9db2eb40>"
      ]
     },
     "execution_count": 158,
     "metadata": {},
     "output_type": "execute_result"
    },
    {
     "data": {
      "image/png": "[encoded data removed]",
      "text/plain": [
       "<Figure size 640x480 with 1 Axes>"
      ]
     },
     "metadata": {},
     "output_type": "display_data"
    }
   ],
   "source": [
    "#Scatter Plot\n",
    "ages=[10,20,32,23,22,24,59,49]\n",
    "salary=[10000,12121,232323,233432,390000,822000,810000,191000]\n",
    "plt.xlabel(\"Ages of Person\")\n",
    "plt.ylabel(\"Salary\")\n",
    "plt.title(\"Ages vs Salary\")\n",
    "plt.scatter(ages,salary,color=\"red\")\n"
   ]
  },
  {
   "cell_type": "code",
   "execution_count": 159,
   "id": "dc086b0b-161b-42b4-8175-b5a87b296f86",
   "metadata": {},
   "outputs": [
    {
     "data": {
      "text/plain": [
       "<matplotlib.collections.PathCollection at 0x22e9db9cf50>"
      ]
     },
     "execution_count": 159,
     "metadata": {},
     "output_type": "execute_result"
    },
    {
     "data": {
      "image/png": "[encoded data removed]",
      "text/plain": [
       "<Figure size 600x400 with 1 Axes>"
      ]
     },
     "metadata": {},
     "output_type": "display_data"
    }
   ],
   "source": [
    "x=[-1,-2,-3,-4,-5,-6,-19]\n",
    "y=[15,34,32,20,89,20,27]\n",
    "plt.figure(figsize=(6,4)) #Dimensions of figure in indexes\n",
    "plt.suptitle(\"Learning Visualization\",size=24)  #Gives Label to graph in bigger size\n",
    "plt.xlim(0,-20)\n",
    "plt.ylim(10,100)\n",
    "plt.scatter(x,y,color=\"blue\")"
   ]
  },
  {
   "cell_type": "code",
   "execution_count": 160,
   "id": "1b01c41d-4e55-463c-b113-04971177131e",
   "metadata": {},
   "outputs": [
    {
     "data": {
      "text/plain": [
       "[<matplotlib.lines.Line2D at 0x22e959a96d0>]"
      ]
     },
     "execution_count": 160,
     "metadata": {},
     "output_type": "execute_result"
    },
    {
     "data": {
      "image/png": "[encoded data removed]",
      "text/plain": [
       "<Figure size 640x480 with 1 Axes>"
      ]
     },
     "metadata": {},
     "output_type": "display_data"
    }
   ],
   "source": [
    "x=list(range(-100,100))\n",
    "y=[i*i for i in x]\n",
    "plt.plot(x,y)"
   ]
  },
  {
   "cell_type": "code",
   "execution_count": null,
   "id": "ccee2a53-22fa-4887-bfae-bcefec734e43",
   "metadata": {},
   "outputs": [
    {
     "data": {
      "text/plain": [
       "[<matplotlib.lines.Line2D at 0x22e9d156c90>]"
      ]
     },
     "execution_count": 161,
     "metadata": {},
     "output_type": "execute_result"
    }
   ],
   "source": [
    "from math import exp\n",
    "x=list(range(0,30))\n",
    "y=[exp(i) for i in x]\n",
    "plt.plot(x,y)"
   ]
  },
  {
   "cell_type": "code",
   "execution_count": null,
   "id": "e067069a-81e1-453c-b87a-90a6f8a4e0dd",
   "metadata": {},
   "outputs": [],
   "source": [
    "#Subplot\n",
    "from math import *\n",
    "plt.figure(figsize=(16,9))\n",
    "x=list(range(1,11))\n",
    "y=[i**2 for i in x]\n",
    "plt.subplot(3,4,1)\n",
    "plt.title(\"Square of x\")\n",
    "plt.plot(x,y)\n",
    "\n",
    "y=[i**3 for i in x]\n",
    "plt.subplot(3,4,3)\n",
    "plt.title(\"Cube of X\")\n",
    "plt.plot(x,y)\n",
    "\n",
    "y=[sin(i) for i in x]\n",
    "plt.subplot(3,4,6)\n",
    "plt.title(\"Sin of X\")\n",
    "plt.plot(x,y)\n"
   ]
  },
  {
   "cell_type": "code",
   "execution_count": null,
   "id": "ec851c79-04bb-480a-97c0-af5c890758cc",
   "metadata": {},
   "outputs": [],
   "source": [
    "df=pd.read_csv('C:/Python-Excelr/Datasets/mtcars.csv')\n",
    "df"
   ]
  },
  {
   "cell_type": "code",
   "execution_count": null,
   "id": "38a94525-6c7e-4fa3-8972-0a4a8eff73dc",
   "metadata": {},
   "outputs": [],
   "source": [
    "df.shape"
   ]
  },
  {
   "cell_type": "code",
   "execution_count": null,
   "id": "e7a9aa2f-cde1-4f35-a558-eb8c7582c887",
   "metadata": {},
   "outputs": [],
   "source": [
    "pd.crosstab(df['cyl'],df['gear'])"
   ]
  },
  {
   "cell_type": "code",
   "execution_count": null,
   "id": "6719a019-a1e7-47c8-a85b-7daee7929180",
   "metadata": {},
   "outputs": [],
   "source": [
    "df.gear.value_counts()"
   ]
  },
  {
   "cell_type": "code",
   "execution_count": null,
   "id": "b88e3961-6b92-48c5-8f8b-99bd4715a86c",
   "metadata": {},
   "outputs": [],
   "source": [
    "pd.crosstab(df['cyl'],df['gear']).plot(kind=\"bar\")"
   ]
  },
  {
   "cell_type": "code",
   "execution_count": null,
   "id": "d1616bf0-f632-465a-bb8b-b4e9d4c3016a",
   "metadata": {},
   "outputs": [],
   "source": [
    "df.gear.value_counts().plot(kind=\"pie\")\n",
    "\n",
    "\n",
    "\n"
   ]
  },
  {
   "cell_type": "code",
   "execution_count": null,
   "id": "3992c5ea-d74d-4993-af14-efb4c3a8037a",
   "metadata": {},
   "outputs": [],
   "source": [
    "plt.scatter(df.mpg,df.qsec,color=\"red\")"
   ]
  },
  {
   "cell_type": "code",
   "execution_count": null,
   "id": "d47dcfed-cace-4048-a869-e871f84394bf",
   "metadata": {},
   "outputs": [],
   "source": [
    "plt.hist(df.mpg,edgecolor=\"cyan\",color=\"black\")"
   ]
  },
  {
   "cell_type": "code",
   "execution_count": null,
   "id": "a34afbef-94d0-42e0-b649-db244b3376dd",
   "metadata": {},
   "outputs": [],
   "source": [
    "plt.hist(df.mpg,facecolor=\"yellow\",edgecolor=\"black\",bins=6)"
   ]
  },
  {
   "cell_type": "code",
   "execution_count": null,
   "id": "f207518c-1f2d-4756-aeeb-7f39cb30eb21",
   "metadata": {},
   "outputs": [],
   "source": [
    "plt.boxplot(df.mpg)\n",
    "plt.show()"
   ]
  },
  {
   "cell_type": "code",
   "execution_count": null,
   "id": "c3337ca5-7098-46ef-b1f6-60289fc069b2",
   "metadata": {},
   "outputs": [],
   "source": [
    "plt.boxplot(df.mpg,vert=False,notch=True)\n",
    "plt.show()"
   ]
  },
  {
   "cell_type": "code",
   "execution_count": null,
   "id": "e7ce0cbd-47e8-455b-9b6a-90f1778a6a8c",
   "metadata": {},
   "outputs": [],
   "source": [
    "import pandas as pd\n",
    "import numpy as np\n",
    "import matplotlib.pyplot as plt\n",
    "import seaborn as sns\n",
    "\n",
    "df=pd.read_csv('C:/Python-Excelr/Datasets/mtcars.csv')\n",
    "df"
   ]
  },
  {
   "cell_type": "code",
   "execution_count": null,
   "id": "c365657c-f8e5-4290-8e73-cdc603816496",
   "metadata": {},
   "outputs": [],
   "source": [
    "df.info()"
   ]
  },
  {
   "cell_type": "code",
   "execution_count": null,
   "id": "904183a6-b83d-4fa2-9293-f0830e23605e",
   "metadata": {},
   "outputs": [],
   "source": [
    "df.describe()"
   ]
  },
  {
   "cell_type": "code",
   "execution_count": null,
   "id": "aa02b14a-5c6b-4999-b2e8-b273ac05fdb3",
   "metadata": {},
   "outputs": [],
   "source": [
    "df.hist(figsize=(13,5),edgecolor=\"black\",color=\"cyan\")\n",
    "plt.tight_layout()\n",
    "plt.show()"
   ]
  },
  {
   "cell_type": "code",
   "execution_count": null,
   "id": "5f0705b8-87f5-41e9-9f56-3215979fade1",
   "metadata": {},
   "outputs": [],
   "source": [
    "plt.scatter(df.mpg,df.qsec,marker=\"*\")"
   ]
  },
  {
   "cell_type": "code",
   "execution_count": null,
   "id": "84b74620-f63c-403a-afdc-a95dfe4983e4",
   "metadata": {},
   "outputs": [],
   "source": [
    "plt.violinplot(df.mpg)\n",
    "plt.show()"
   ]
  },
  {
   "cell_type": "code",
   "execution_count": null,
   "id": "63319deb-4c29-457a-aed1-207e572611b7",
   "metadata": {},
   "outputs": [],
   "source": [
    "#Seaborn has there own built in Dataset\n",
    "\n",
    "tips=sns.load_dataset('tips')\n",
    "tips"
   ]
  },
  {
   "cell_type": "code",
   "execution_count": null,
   "id": "f79680bd-759f-494a-af9f-bc15712b9d7b",
   "metadata": {},
   "outputs": [],
   "source": [
    "sns.get_dataset_names()"
   ]
  },
  {
   "cell_type": "code",
   "execution_count": null,
   "id": "86257b52-a117-42b4-998e-520d64a9f0ec",
   "metadata": {},
   "outputs": [],
   "source": [
    "tips.head()"
   ]
  },
  {
   "cell_type": "code",
   "execution_count": null,
   "id": "d040a6ba-6021-4d4d-b8ea-94dd78de8f6c",
   "metadata": {},
   "outputs": [],
   "source": [
    "tips.shape"
   ]
  },
  {
   "cell_type": "code",
   "execution_count": null,
   "id": "a4205e7a-b8f7-400d-9113-fa01b727dc3a",
   "metadata": {},
   "outputs": [],
   "source": [
    "tips.describe()"
   ]
  },
  {
   "cell_type": "code",
   "execution_count": null,
   "id": "13f70dc0-25eb-48a2-a265-8e022e8a57f5",
   "metadata": {},
   "outputs": [],
   "source": [
    "pd.crosstab(tips.smoker,tips.sex)"
   ]
  },
  {
   "cell_type": "code",
   "execution_count": null,
   "id": "c0e7fe8b-275b-4431-ae7e-294ecc8c598d",
   "metadata": {},
   "outputs": [],
   "source": [
    "pd.crosstab(tips.smoker,tips.sex).plot(kind=\"bar\")"
   ]
  },
  {
   "cell_type": "code",
   "execution_count": null,
   "id": "091e4543-6dfc-4379-addc-b979ea05f0a8",
   "metadata": {},
   "outputs": [],
   "source": [
    "sns.stripplot(y=\"tip\",data=tips)"
   ]
  },
  {
   "cell_type": "code",
   "execution_count": null,
   "id": "4a2d8841-f3c1-4af5-8c08-3db26896c5fc",
   "metadata": {},
   "outputs": [],
   "source": [
    "sns.stripplot(x=\"sex\",y=\"tip\",data=tips,jitter=True) #jitter=False avoids overlapping\n"
   ]
  },
  {
   "cell_type": "code",
   "execution_count": null,
   "id": "4719617b-364d-4e86-ae77-5f5f63428011",
   "metadata": {},
   "outputs": [],
   "source": [
    "sns.stripplot(x=\"day\",y=\"tip\",data=tips,jitter=False)"
   ]
  },
  {
   "cell_type": "code",
   "execution_count": null,
   "id": "3ea6378d-863c-428f-9aba-16c914c58ff1",
   "metadata": {},
   "outputs": [],
   "source": [
    "sns.swarmplot(x=\"day\",y=\"tip\",data=tips,size=5)"
   ]
  },
  {
   "cell_type": "code",
   "execution_count": null,
   "id": "ae4b808f-bd4c-40f0-938e-ee8835d57e82",
   "metadata": {},
   "outputs": [],
   "source": [
    "sns.swarmplot(x=\"day\",y=\"tip\",data=tips,size=5,hue=\"sex\")\n",
    "plt.show()"
   ]
  },
  {
   "cell_type": "code",
   "execution_count": null,
   "id": "9f5095b9-094f-42af-91a3-5fa3207b0726",
   "metadata": {},
   "outputs": [],
   "source": [
    "sns.swarmplot(x=\"day\",y=\"tip\",data=tips,size=5,hue=\"time\")\n",
    "plt.show()"
   ]
  },
  {
   "cell_type": "code",
   "execution_count": null,
   "id": "64d8b284-110a-4709-8deb-1ba3b02f909a",
   "metadata": {},
   "outputs": [],
   "source": [
    "plt.subplot(2,2,1)\n",
    "sns.boxplot(x=\"day\",y=\"tip\",data=tips)\n",
    "\n",
    "plt.subplot(2,2,2)\n",
    "sns.boxplot(x=\"day\",y=\"tip\",data=tips)\n",
    "\n",
    "plt.subplot(2,2,3)\n",
    "sns.violinplot(x=\"day\",y=\"tip\",data=tips)\n",
    "\n",
    "plt.subplot(2,2,4)\n",
    "sns.swarmplot(x=\"day\",y=\"tip\",data=tips)"
   ]
  },
  {
   "cell_type": "code",
   "execution_count": null,
   "id": "db3997e1-8744-4413-bbf8-a82fc997a492",
   "metadata": {},
   "outputs": [],
   "source": [
    "sns.scatterplot(data=tips,x=\"total_bill\",y=\"tip\")\n"
   ]
  },
  {
   "cell_type": "code",
   "execution_count": null,
   "id": "a8c28468-5f18-44fe-88e4-02fb229e54dd",
   "metadata": {},
   "outputs": [],
   "source": [
    "sns.scatterplot(data=tips,x=\"total_bill\",y=\"tip\",hue=\"time\")"
   ]
  },
  {
   "cell_type": "code",
   "execution_count": null,
   "id": "5d84391b-2a71-4aa3-a516-b0aa33070853",
   "metadata": {},
   "outputs": [],
   "source": [
    "df\n",
    "tips"
   ]
  },
  {
   "cell_type": "code",
   "execution_count": null,
   "id": "e00e1d14-8625-4b99-adc0-ab819cf02236",
   "metadata": {},
   "outputs": [],
   "source": [
    "sns.histplot(x=\"total_bill\",data=tips)"
   ]
  },
  {
   "cell_type": "code",
   "execution_count": null,
   "id": "a456710d-64be-4ae7-ba45-6975cdbe366c",
   "metadata": {},
   "outputs": [],
   "source": [
    "sns.histplot(x=\"tip\",data=tips)"
   ]
  },
  {
   "cell_type": "code",
   "execution_count": null,
   "id": "be0db939-adb6-4d8c-a91c-d2c0aaec2ac2",
   "metadata": {},
   "outputs": [],
   "source": [
    "sns.jointplot(x=\"total_bill\",y=\"tip\",data=tips)"
   ]
  },
  {
   "cell_type": "code",
   "execution_count": null,
   "id": "f3a87c42-9dd5-4033-ae23-9990bc64da36",
   "metadata": {},
   "outputs": [],
   "source": [
    "pd.plotting.scatter_matrix(tips)"
   ]
  },
  {
   "cell_type": "code",
   "execution_count": null,
   "id": "1c64e0f0-ff97-42e2-b682-a54e80fafd67",
   "metadata": {},
   "outputs": [],
   "source": [
    "sns.pairplot(tips)\n",
    "plt.show()"
   ]
  },
  {
   "cell_type": "code",
   "execution_count": null,
   "id": "5561cb54-76ae-40a3-9477-3849e3268020",
   "metadata": {},
   "outputs": [],
   "source": [
    "sns.pairplot(tips,hue=\"sex\")"
   ]
  },
  {
   "cell_type": "code",
   "execution_count": null,
   "id": "41f4e30f-703b-47fd-ab23-f918460079be",
   "metadata": {},
   "outputs": [],
   "source": [
    "df=pd.read_csv('C:/Python-Excelr/Datasets/train.csv')\n",
    "df"
   ]
  },
  {
   "cell_type": "code",
   "execution_count": null,
   "id": "c885b700-5449-4979-b0d8-18d86a2895a5",
   "metadata": {},
   "outputs": [],
   "source": [
    "df.info()"
   ]
  },
  {
   "cell_type": "code",
   "execution_count": null,
   "id": "921c0a1d-e167-4922-85ba-6e449aa39e35",
   "metadata": {},
   "outputs": [],
   "source": [
    "df.describe()"
   ]
  },
  {
   "cell_type": "code",
   "execution_count": null,
   "id": "478a3c89-203d-4cab-87ca-b0bef4347381",
   "metadata": {},
   "outputs": [],
   "source": [
    "df.shape"
   ]
  },
  {
   "cell_type": "code",
   "execution_count": null,
   "id": "5355e676-4537-430e-af36-073f96bab067",
   "metadata": {},
   "outputs": [],
   "source": [
    "df.groupby('Survived')['PassengerId'].value_counts()"
   ]
  },
  {
   "cell_type": "code",
   "execution_count": null,
   "id": "be8385d6-40cd-43a2-9a94-326693388432",
   "metadata": {},
   "outputs": [],
   "source": [
    "df.groupby('Survived')['PassengerId'].count()"
   ]
  },
  {
   "cell_type": "code",
   "execution_count": null,
   "id": "047c403b-c5bc-4bf2-bee0-3f63c2b7cc43",
   "metadata": {},
   "outputs": [],
   "source": [
    "pd.crosstab(df.Survived,df.Sex)"
   ]
  },
  {
   "cell_type": "code",
   "execution_count": null,
   "id": "c580e096-3e5e-43c8-87df-3267cd67d13f",
   "metadata": {},
   "outputs": [],
   "source": [
    "pd.crosstab(df.Survived,df.Sex).plot(kind=\"bar\")"
   ]
  },
  {
   "cell_type": "code",
   "execution_count": null,
   "id": "2896d153-3edf-471e-a210-62cfcd02f764",
   "metadata": {},
   "outputs": [],
   "source": [
    "sns.boxplot(x='Survived',y='Age',data=df)\n"
   ]
  },
  {
   "cell_type": "code",
   "execution_count": null,
   "id": "cbc373f2-a235-4b1b-b755-46e57836296f",
   "metadata": {},
   "outputs": [],
   "source": [
    "sns.boxplot(x='Survived',y='Age',data=df,hue=\"Sex\")"
   ]
  },
  {
   "cell_type": "code",
   "execution_count": null,
   "id": "957f7d2b-3bc1-4c7f-9dcd-3c34dd3d2faa",
   "metadata": {},
   "outputs": [],
   "source": [
    "sns.boxplot(x='Pclass',y='Survived',data=df)"
   ]
  },
  {
   "cell_type": "code",
   "execution_count": null,
   "id": "f325d2b9-6849-466e-903d-ba3899012c72",
   "metadata": {},
   "outputs": [],
   "source": [
    "sns.distplot(df.loc[df['Survived']==1,'Age'])"
   ]
  },
  {
   "cell_type": "code",
   "execution_count": null,
   "id": "85bb532b-6c61-43fd-92fd-d2012e792077",
   "metadata": {},
   "outputs": [],
   "source": [
    "\n",
    "sns.distplot(df.loc[df['Survived']==1,'Age']).dropna()"
   ]
  },
  {
   "cell_type": "code",
   "execution_count": null,
   "id": "68b095a9-b194-40a0-8459-bbdb20eb6dcb",
   "metadata": {},
   "outputs": [],
   "source": [
    "sns.pairplot(df)"
   ]
  },
  {
   "cell_type": "code",
   "execution_count": null,
   "id": "f61c0eb6-28aa-4120-a068-8178888ebff3",
   "metadata": {},
   "outputs": [],
   "source": [
    "grid=sns.FacetGrid(df,col='Survived',row='Pclass',height=2.4,aspect=1.5)\n",
    "grid.map(plt.hist,'Age',alpha=0.9,bins=24)"
   ]
  },
  {
   "cell_type": "code",
   "execution_count": null,
   "id": "a4bdb740-7640-4206-8819-44f83b866846",
   "metadata": {},
   "outputs": [],
   "source": [
    "fig,ax=plt.subplots(nrows=2,ncols=2)"
   ]
  },
  {
   "cell_type": "code",
   "execution_count": null,
   "id": "0e7cb657-be80-4ffb-aecd-c8d7c05d2cba",
   "metadata": {},
   "outputs": [],
   "source": [
    "fig,ax=plt.subplots()\n",
    "ages=[30,23,21,33,24,21,34]\n",
    "salary=[200000,230003,343000,454000,450000,120000,102022]\n",
    "ax.plot(ages,salary)"
   ]
  },
  {
   "cell_type": "code",
   "execution_count": null,
   "id": "c9335e68-2e7d-4822-8b06-08471168eb4a",
   "metadata": {},
   "outputs": [],
   "source": [
    "figbi,axbi=plt.subplots(2,4,figsize=(18,10))\n",
    "df.groupby('Pclass')['Survived'].mean().plot(kind='bar',ax=axbi[0,0],xlim=[0,1])\n",
    "df.groupby('SibSp')['Survived'].mean().plot(kind='bar',ax=axbi[0,1],xlim=[0,1])\n",
    "df.groupby('Parch')['Survived'].mean().plot(kind='bar',ax=axbi[0,2],xlim=[0,1])\n",
    "df.groupby('Sex')['Survived'].mean().plot(kind='bar',ax=axbi[0,3],xlim=[0,1])\n",
    "df.groupby('Embarked')['Survived'].mean().plot(kind='bar',ax=axbi[1,0],xlim=[0,1])\n",
    "sns.boxplot(x=\"Sex\",y=\"Age\",data=df,ax=axbi[1,1])\n",
    "sns.boxplot(x=\"Survived\",y=\"Fare\",data=df,ax=axbi[1,2])\n",
    "sns.histplot(x=\"Survived\",data=df,ax=axbi[1,3])\n",
    "plt.show()\n",
    "plt.tight_layout()\n",
    "figbi.savefig(\"Myfirst.png\",bbox_inches=\"tight\")\n",
    "\n",
    " "
   ]
  }
 ],
 "metadata": {
  "kernelspec": {
   "display_name": "Python 3 (ipykernel)",
   "language": "python",
   "name": "python3"
  },
  "language_info": {
   "codemirror_mode": {
    "name": "ipython",
    "version": 3
   },
   "file_extension": ".py",
   "mimetype": "text/x-python",
   "name": "python",
   "nbconvert_exporter": "python",
   "pygments_lexer": "ipython3",
   "version": "3.12.4"
  }
 },
 "nbformat": 4,
 "nbformat_minor": 5
}
